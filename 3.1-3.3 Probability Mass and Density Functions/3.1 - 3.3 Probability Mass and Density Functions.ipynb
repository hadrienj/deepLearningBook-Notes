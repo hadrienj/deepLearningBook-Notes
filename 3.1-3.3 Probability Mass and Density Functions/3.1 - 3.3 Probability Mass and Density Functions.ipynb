{
 "cells": [
  {
   "cell_type": "code",
   "execution_count": 1,
   "metadata": {
    "hideCode": true,
    "hidePrompt": true
   },
   "outputs": [],
   "source": [
    "import numpy as np\n",
    "import matplotlib.pyplot as plt\n",
    "import seaborn as sns"
   ]
  },
  {
   "cell_type": "code",
   "execution_count": 2,
   "metadata": {
    "hideCode": true,
    "hidePrompt": true
   },
   "outputs": [
    {
     "name": "stdout",
     "output_type": "stream",
     "text": [
      "Populating the interactive namespace from numpy and matplotlib\n"
     ]
    }
   ],
   "source": [
    "# Plot style\n",
    "sns.set()\n",
    "%pylab inline\n",
    "pylab.rcParams['figure.figsize'] = (6, 4)"
   ]
  },
  {
   "cell_type": "code",
   "execution_count": 3,
   "metadata": {
    "hideCode": true,
    "hidePrompt": true
   },
   "outputs": [
    {
     "data": {
      "text/html": [
       "<style>\n",
       ".pquote {\n",
       "  text-align: left;\n",
       "  margin: 40px 0 40px auto;\n",
       "  width: 70%;\n",
       "  font-size: 1.5em;\n",
       "  font-style: italic;\n",
       "  display: block;\n",
       "  line-height: 1.3em;\n",
       "  color: #5a75a7;\n",
       "  font-weight: 600;\n",
       "  border-left: 5px solid rgba(90, 117, 167, .1);\n",
       "  padding-left: 6px;\n",
       "}\n",
       ".notes {\n",
       "  font-style: italic;\n",
       "  display: block;\n",
       "  margin: 40px 10%;\n",
       "}\n",
       "img + em {\n",
       "  text-align: center;\n",
       "  display: block;\n",
       "  color: gray;\n",
       "  font-size: 0.9em;\n",
       "  font-weight: 600;\n",
       "}\n",
       "</style>\n"
      ],
      "text/plain": [
       "<IPython.core.display.HTML object>"
      ]
     },
     "metadata": {},
     "output_type": "display_data"
    }
   ],
   "source": [
    "%%html\n",
    "<style>\n",
    ".pquote {\n",
    "  text-align: left;\n",
    "  margin: 40px 0 40px auto;\n",
    "  width: 70%;\n",
    "  font-size: 1.5em;\n",
    "  font-style: italic;\n",
    "  display: block;\n",
    "  line-height: 1.3em;\n",
    "  color: #5a75a7;\n",
    "  font-weight: 600;\n",
    "  border-left: 5px solid rgba(90, 117, 167, .1);\n",
    "  padding-left: 6px;\n",
    "}\n",
    ".notes {\n",
    "  font-style: italic;\n",
    "  display: block;\n",
    "  margin: 40px 10%;\n",
    "}\n",
    "img + em {\n",
    "  text-align: center;\n",
    "  display: block;\n",
    "  color: gray;\n",
    "  font-size: 0.9em;\n",
    "  font-weight: 600;\n",
    "}\n",
    "</style>"
   ]
  },
  {
   "cell_type": "markdown",
   "metadata": {
    "hideCode": true,
    "hidePrompt": true
   },
   "source": [
    "$$\n",
    "\\newcommand\\bs[1]{\\boldsymbol{#1}}\n",
    "$$"
   ]
  },
  {
   "cell_type": "markdown",
   "metadata": {
    "hideCode": true,
    "hidePrompt": true
   },
   "source": [
    "<span class='notes'>\n",
    "This content is part of a series about Chapter 3 on probability from the [Deep Learning Book](http://www.deeplearningbook.org/) by Goodfellow, I., Bengio, Y., and Courville, A. (2016). It aims to provide intuitions/drawings/python code on mathematical theories and is constructed as my understanding of these concepts.\n",
    "</span>\n",
    "\n",
    "You can find the corresponding post [here](https://hadrienj.github.io/posts/Probability-Mass-and-Density-Functions/) on my blog."
   ]
  },
  {
   "cell_type": "markdown",
   "metadata": {},
   "source": [
    "# Introduction\n",
    "\n",
    "I'm happy to present here the following of my series on the Deep Learning Book by Goodfellow et al. This is the first post/notebook made from chapter 3 on Probability. For those who already know my posts/notebooks about [Chapter 2](https://hadrienj.github.io/posts/Deep-Learning-Book-Series-Introduction/) on linear algebra, the goal and the structure are the same. The aim is to make the book more accessible **for people without a deep mathematical background**. For more information, you can refer to the [introductory post](https://towardsdatascience.com/boost-your-data-sciences-skills-learn-linear-algebra-2c30fdd008cf).\n",
    "\n",
    "I think that it is possible to gain a **better intuition** on mathematical concepts by using code (here Python) and visualisations. The structure follows the book sub-chapters and it can be used as additional content, giving examples and details.\n",
    "\n",
    "This first part is about chapters 3.1 to 3.3. Chapter 3.1 is an introduction to probability and contains no technical difficulty. You can thus directly read it [here](https://www.deeplearningbook.org/contents/prob.html). Chapter 3.2 is really only a definition so the main part is 3.3 on **probability mass function** and **probability density function**. After reading it, **random variables** and their probability distributions (for **discrete and continuous variables**) will have no secret for you 🏄🏾‍♂️.\n",
    "\n",
    "In order to understand it we'll also study some very useful mathematical tools:\n",
    "\n",
    "🔧 **Discrete vs. continuous variable**\n",
    "\n",
    "🔧 **Derivative**\n",
    "\n",
    "🔧 **Integrals**\n",
    "\n",
    "🔧 **Area under the curve**\n",
    "\n",
    "These notions are important to catch for general data science and machine learning."
   ]
  },
  {
   "cell_type": "markdown",
   "metadata": {},
   "source": [
    "# 3.2 Random Variables\n",
    "\n",
    "The goal of probability is to deal with uncertainty. It gives ways to describe random events. A random variable is a variable that can take multiple values depending on the outcome of a random event. The possible outcomes are the possible values taken by the variable.\n",
    "\n",
    "If the outcomes are finite (for example the 6 possibilities in a die throwing event) the random variable is said to be **discrete**.\n",
    "\n",
    "If the possible outcomes are not finite (for example, drawing a number between $0$ and $1$ can give an infinite number of values), the random variable is said to be **continuous**.\n",
    "\n",
    "As in the book, we will use the following notation: a lower case letter in plain typeface for a random variable: $\\text{x}$.\n",
    "\n",
    "### Example 1.\n",
    "\n",
    "Let's say that the variable $\\text{x}$ is a random variable expressing the result of a dice roll 🎲. The variable can take the value 1, 2, 3, 4, 5 or 6. It is a discrete random variable."
   ]
  },
  {
   "cell_type": "markdown",
   "metadata": {
    "hideCode": true,
    "hidePrompt": true
   },
   "source": [
    "# 3.3 Probability Distributions\n",
    "\n",
    "So a random variable can take multiple values. One very important thing is to know if some values will be more often encountered than others. The description of the probability of each possible value that a random variable can take is called its **probability distribution**.\n",
    "\n",
    "This idea of discrete versus continuous variable is important and we will study the concept of probability distribution in both cases. Even if they are related, some differences exist.\n",
    "\n",
    "Anyway, the probability distribution of a random variable $\\text{x}$ describes the probability of each outcome (a probability of 1 meaning that the variable will always take this value and a probability of 0 that it will never be encountered). This function is called probability distribution. More specifically, it is called the **probability mass function** for a discrete variable and **probability density function** for a continuous variable.\n",
    "\n",
    "## 3.3.1 Discrete Variable and Probability Mass Function\n",
    "\n",
    "The **probability mass function** is the function which describes the probability associated with the random variable $\\text{x}$. This function is named $P(\\text{x})$ or $P(\\text{x} = x)$ to avoid confusion. $P(\\text{x} = x)$ corresponds to the probability that the random variable $\\text{x}$ take the value $x$ (note the different typefaces).\n",
    "\n",
    "### Example 2.\n",
    "\n",
    "<img src=\"images/all_dice.png\" width=\"400\" alt=\"Dice experiment illustrating discrete random variable and probability mass function\" title=\"Dice experiment illustrating discrete random variable and probability mass function\">\n",
    "<em>Dice experiment illustrating discrete random variable and probability mass function</em>\n",
    "\n",
    "Let's roll a die an infinite number of times and look at the proportion of 1, the proportion of 2 and so on. We call $\\text{x}$ the random variable that corresponds to the outcome of the dice roll. Thus the random variable $\\text{x}$ can only takes the following discrete values: 1, 2, 3, 4, 5 or 6. It is thus a **discrete random variable**.\n",
    "\n",
    "The aim of the probability mass function is to describe the probability of each possible value. In our example, it describes the probability to get a 1, the probability to get a 2 and so on. In the case of a dice rolling experiment, we have the same probability to get each value (if we assume that the die is perfect). This means that we can write:\n",
    "\n",
    "$$\n",
    "\\begin{align*}\n",
    "P(\\text{x}=1)&=P(\\text{x}=2)\\\\\\\\\n",
    "&=P(\\text{x}=3)\\\\\\\\\n",
    "&=P(\\text{x}=4)\\\\\\\\\n",
    "&=P(\\text{x}=5)\\\\\\\\\n",
    "&=P(\\text{x}=6)\n",
    "\\end{align*}\n",
    "$$\n",
    "\n",
    "Now, how can we calculate the probabilities $P(\\text{x}=1)$, $P(\\text{x}=2)$ etc.? Since we have 6 possible outcomes and that they are equiprobable we have:\n",
    "\n",
    "$$\n",
    "\\begin{align*}\n",
    "P(\\text{x}=1)&=P(\\text{x}=2)\\\\\\\\\n",
    "&=P(\\text{x}=3)\\\\\\\\\n",
    "&=P(\\text{x}=4)\\\\\\\\\n",
    "&=P(\\text{x}=5)\\\\\\\\\n",
    "&=P(\\text{x}=6)\\\\\\\\\n",
    "&=\\frac{1}{6}\n",
    "\\end{align*}\n",
    "$$\n",
    "\n",
    "By the way, this distribution shows the same probability for each value: it is called the **uniform distribution**.\n",
    "\n",
    "The probability mass function could look something like:\n",
    "\n",
    "<img src=\"images/mass.png\" width=\"300\" alt=\"probability mass function of the dice experiment\" title=\"Probability mass function of the dice experiment\">\n",
    "<em>Probability mass function of the dice experiment</em>\n",
    "\n",
    "The y-axis gives the probability and x-axis the outcome."
   ]
  },
  {
   "cell_type": "markdown",
   "metadata": {},
   "source": [
    "Let's reproduce this first example in code to be sure that everything is clear:"
   ]
  },
  {
   "cell_type": "code",
   "execution_count": 18,
   "metadata": {
    "hideCode": true,
    "hidePrompt": true,
    "scrolled": true
   },
   "outputs": [
    {
     "data": {
      "image/png": "[encoded data removed]",
      "text/plain": [
       "<Figure size 432x288 with 1 Axes>"
      ]
     },
     "metadata": {
      "needs_background": "light"
     },
     "output_type": "display_data"
    }
   ],
   "source": [
    "num_throws = 10000\n",
    "outcomes = np.zeros(num_throws)\n",
    "for i in range(num_throws):\n",
    "    # let's roll the die\n",
    "    outcome = np.random.choice(['1', '2', '3', '4', '5', '6'])\n",
    "    outcomes[i] = outcome\n",
    "\n",
    "    \n",
    "val, cnt = np.unique(outcomes, return_counts=True)\n",
    "prop = cnt / len(outcomes)\n",
    "\n",
    "# Now that we have rolled our die 10000 times, let's plot the results\n",
    "plt.bar(val, prop)\n",
    "plt.ylabel(\"Probability\")\n",
    "plt.xlabel(\"Outcome\")\n",
    "plt.show()\n",
    "plt.close()"
   ]
  },
  {
   "cell_type": "markdown",
   "metadata": {
    "hideCode": true,
    "hidePrompt": true
   },
   "source": [
    "I created an array filled with $0$ with the Numpy function `zeros()`. At each throw, I chose a value among the 6 possibilities. Then, I used the Numpy function `unique()` with the parameter `return_counts` set to `True` to get the number of each possible outcome. I plotted the proportion for each possible value.\n",
    "\n",
    "We can see that the distribution looks like a uniform distribution and that each outcome has a probability of around $\\frac{1}{6}$ ($\\approx 0.17$)."
   ]
  },
  {
   "cell_type": "markdown",
   "metadata": {},
   "source": [
    "### Joint probability distribution\n",
    "\n",
    "Now let's see what happens if we roll two dice. For each die, the outcomes are associated with a certain probability. We need two random variables to describe the game, let's say that $\\text{x}$ corresponds to the first die and $\\text{y}$ to the second one. We also have two probability mass functions associated with the random variables: $P(\\text{x})$ and $P(\\text{y})$. Here the possible values of the random variables (1, 2, 3, 4, 5 or 6) and the probability mass functions are actually the same for both dice, but it doesn't need to be the case.\n",
    "\n",
    "The **joint probability distribution** is useful in the cases where we are interested in the probability that $\\text{x}$ takes a specific value while $\\text{y}$ takes another specific value. For instance, what would be the probability to get a 1 with the first dice and 2 with the second dice? The probabilities corresponding to every pair of values are written $P(\\text{x}=x, \\text{y}=y)$ or $P(\\text{x}, \\text{y})$. This is what we call the **joint probability**.\n",
    "\n",
    "### Example 3.\n",
    "\n",
    "For example, let's calculate the probability to have a 1 with the first dice and a 2 in the second:\n",
    "\n",
    "$$\n",
    "P(\\text{x}=1, \\text{y}=2) = \\frac{1}{6} \\times \\frac{1}{6} = \\frac{1}{36} \\approx 0.028\n",
    "$$\n"
   ]
  },
  {
   "cell_type": "markdown",
   "metadata": {},
   "source": [
    "### Properties of a probability mass function\n",
    "\n",
    "A function is a probability mass function if:\n",
    "\n",
    "$$\n",
    "\\forall x \\in \\text{x}, 0 \\leq P(x) \\leq 1\n",
    "$$\n",
    "\n",
    "The symbol $\\forall$ means \"for any\". This means that for every possible value $x$ in the range of $\\text{x}$ (in the example of a die rolling experiment, all possible values were 1, 2, 3, 4, 5 and 6), the probability that the outcome corresponds to this value is between 0 and 1. A probability of 0 means that the event is impossible and a probability of 1 means that you can be sure that the outcome will correspond to this value.\n",
    "\n",
    "In the example of the dice, the probability of each possible value is $\\frac{1}{6}$ which is between 0 and 1. This property is fulfilled.\n",
    "\n",
    "$$\n",
    "\\sum\\limits_{x \\in \\text{x}} P(x) = 1\n",
    "$$\n",
    "\n",
    "This means that the sum of the probabilities associated with each possible value is equal to 1.\n",
    "\n",
    "In the example of the dice experiment, we can see that there are 6 possible outcomes, each with a probability of $\\frac{1}{6}$ giving a total of $\\frac{1}{6} \\times 6 = 1$. This property is fulfilled."
   ]
  },
  {
   "cell_type": "markdown",
   "metadata": {
    "hideCode": true,
    "hidePrompt": true
   },
   "source": [
    "## 3.3.2 Continuous Variable and Probability Density Function\n",
    "\n",
    "Some variables are not discrete. They can take an infinite number of values in a certain range. But we still need to describe the probability associated with outcomes. The equivalent of the probability mass function for continuous variable is called the **probability density function**.\n",
    "\n",
    "In the case of the probability mass function, we saw that the y-axis gives a probability. For instance, in the plot we created with Python, the probability to get a $1$ was equal to $\\frac{1}{6} \\approx 0.16$ (check on the plot above). It is $\\frac{1}{6}$ because it is one possibility over 6 total possibilities.\n",
    "\n",
    "However, we can't do this for continuous variables because the total number of possibilities is infinite. For instance, if we draw a number between 0 and 1, we have an infinite number of possible outcomes (for instance 0.320502304...). In the example above, we had 6 possible outcomes, leading to probabilities around $\\frac{1}{6}$. Now, we have each probability equal to $\\frac{1}{+\\infty} \\approx 0$. Such a function would not be very useful.\n",
    "\n",
    "For that reason, the y-axis of the probability density function doesn't represent probability values. To get the probability, we need to calculate the **area under the curve** (we will see below some details about the area under the curve). The advantage is that it leads to the probabilities according to a certain range (on the x-axis): the area under the curve increases if the range increases. Let's see some examples to clarify all of this."
   ]
  },
  {
   "cell_type": "markdown",
   "metadata": {},
   "source": [
    "### Example 4.\n",
    "\n",
    "Let's say that we have a random variable $\\text{x}$ that can take values between 0 and 1. Here is its probability density function:\n",
    "\n",
    "<img src=\"images/probability-density-function.png\" width=\"300\" alt=\"Illustration of the probability density function\" title=\"Probability density function (pdf)\">\n",
    "<em>Probability density function</em>\n",
    "\n",
    "We can see that $0$ seems to be not possible (probability around 0) and neither $1$. The pic around $0.3$ means that will get a lot of outcomes around this value.\n",
    "\n",
    "Finding probabilities from probability density function between a certain range of values can be done by calculating the area under the curve for this range. For example, the probability of drawing a value between $0.5$ and $0.6$ corresponds to the following area:\n",
    "\n",
    "<img src=\"images/probability-density-function-area-under-the-curve-1.png\" width=\"300\" alt=\"Illustration of the probability density function and the area under the curve corresponding to the range 0.5-0.6\" title=\"Probability density function (pdf) and area under the curve\">\n",
    "<em>Probability density function and area under the curve between 0.5 and 0.6.</em>\n",
    "\n",
    "We can easily see that if we increase the range, the probability (the area under the curve) will increase as well. For instance, for the range of 0.5-0.7:\n",
    "\n",
    "<img src=\"images/probability-density-function-area-under-the-curve-2.png\" width=\"300\" alt=\"Illustration of the probability density function and the area under the curve corresponding to the range 0.5-0.7\" title=\"Probability density function (pdf) and area under the curve\">\n",
    "<em>Probability density function and area under the curve between 0.5 and 0.7.</em>\n",
    "\n",
    "We will see in a moment how to calculate the area under the curve and get the probability associated with a specific range."
   ]
  },
  {
   "cell_type": "markdown",
   "metadata": {},
   "source": [
    "### Properties of the probability density function\n",
    "\n",
    "These differences between the probability mass functions and the probability density function lead to different properties for the probability density function:\n",
    "\n",
    "1. $\\forall x \\in \\text{x}, p(x) \\geq  0$.\n",
    "\n",
    "In this case, $p(x)$ is not necessarily less than 1 because **it doesn't correspond to the probability** (the probability itself will still need to be between $0$ and $1$).\n",
    "\n",
    "### Example 5.\n",
    "\n",
    "For instance, let's say that we have a continuous random variable that can take values between $0$ and $0.5$. This variable is described by a uniform distribution so we will have the following probability distribution function:\n",
    "\n",
    "<img src=\"images/area_under_curve_more_1.png\" width=\"150\" alt=\"Illustration of the probability density function  (uniform distribution) with y value greater than 1\" title=\"Probability density function (pdf) with y-values greater than 1\">\n",
    "<em>Probability density function (uniform distribution). The area under the curve is equal to 1 ($2 \\times 0.5$) and the y-values are greater than 1.</em>\n",
    "\n",
    "We can see that the y-values are greater than $1$. The probability is given by the area under the curve and thus it depends on the x-axis as well.\n",
    "\n",
    "🤨 If you like to see this by yourself, we will reproduce this example in Python. To do that we will create a random variable $\\text{x}$ that can take a value between $0$ and $0.5$ randomly. The uniform distribution will be used thanks to the Numpy function `random.uniform()`. The parameters of this function are the lowest value (included), the highest value (not included) and the number of samples. So `np.random.uniform(0, 0.5, 10000)` will create 10000 value randomly chosen to be $\\geq 0$ and $\\lt 0.5$."
   ]
  },
  {
   "cell_type": "code",
   "execution_count": 7,
   "metadata": {
    "scrolled": true
   },
   "outputs": [
    {
     "data": {
      "image/png": "[encoded data removed]",
      "text/plain": [
       "<Figure size 432x288 with 1 Axes>"
      ]
     },
     "metadata": {
      "needs_background": "light"
     },
     "output_type": "display_data"
    }
   ],
   "source": [
    "x = np.random.uniform(0, 0.5, 10000)\n",
    "\n",
    "sns.distplot(x)\n",
    "plt.show()"
   ]
  },
  {
   "cell_type": "markdown",
   "metadata": {},
   "source": [
    "Looks good! 🏄🏽‍♀️\n",
    "\n",
    "We can see that the shape looks like what I draw above with y-axis values around 2 for all $x$ between $0$ and $0.5$.\n",
    "\n",
    "However, one thing can be intriguing in this plot. We talked about continuous variable and here we have represented the distribution with bars. The explanation is the same as before: we need to discretise the function to count the number of outcomes in each interval. Actually, the number of intervals is a parameter of the function `distplot()`. Let's try to use a lot of bins:"
   ]
  },
  {
   "cell_type": "code",
   "execution_count": 26,
   "metadata": {},
   "outputs": [
    {
     "data": {
      "image/png": "[encoded data removed]",
      "text/plain": [
       "<Figure size 432x288 with 1 Axes>"
      ]
     },
     "metadata": {
      "needs_background": "light"
     },
     "output_type": "display_data"
    }
   ],
   "source": [
    "x = np.random.uniform(0, 0.5, 10000)\n",
    "\n",
    "sns.distplot(x, bins=1000)\n",
    "plt.show()"
   ]
  },
  {
   "cell_type": "markdown",
   "metadata": {},
   "source": [
    "We can see that we are still around $2$ but that the variability is greater than before (the bars can go from 1 to 4 which was not the case in the last plot). Any idea why?🤔\n",
    "\n",
    "💡This is because since we took more bins, a smaller number of values were in each bin leading to a less accurate estimate. If this hypothesis is true, we could reduce this variability by increasing the number of samples. Let's try that:"
   ]
  },
  {
   "cell_type": "code",
   "execution_count": 28,
   "metadata": {},
   "outputs": [
    {
     "data": {
      "image/png": "[encoded data removed]",
      "text/plain": [
       "<Figure size 432x288 with 1 Axes>"
      ]
     },
     "metadata": {
      "needs_background": "light"
     },
     "output_type": "display_data"
    }
   ],
   "source": [
    "x = np.random.uniform(0, 0.5, 1000000)\n",
    "\n",
    "sns.distplot(x, bins=1000)\n",
    "plt.show()"
   ]
  },
  {
   "cell_type": "markdown",
   "metadata": {},
   "source": [
    "That's great 🤸🏼‍♂️\n",
    "\n",
    "We can now go to the second property!"
   ]
  },
  {
   "cell_type": "markdown",
   "metadata": {},
   "source": [
    "$$\n",
    "\\int p(x)dx = 1\n",
    "$$\n",
    "\n",
    "For the probability mass function, we have seen that the sum of the probabilities has to be equal to $1$. This is not the case for the probability density functions since the probability corresponds to the area under the curve and not directly to $y$ values. However, this means that **the area under the curve has to be equal to 1**.\n",
    "\n",
    "We saw in the last example, that the area was actually equal to 1. It can be easily obtained and visualised because of the squared shape of the uniform distribution. It is thus possible to multiply the height by the width: $2 \\times 0.5 = 1$.\n",
    "\n",
    "However, in many cases, the shape is not a square and we still need to calculate the area under the curve. Let's see how to do this!"
   ]
  },
  {
   "cell_type": "markdown",
   "metadata": {},
   "source": [
    "### 🔧 Area under the curve\n",
    "\n",
    "The area under the curve of a function for a specific range of values can be calculated with the **integral** of the function. We will see that calculating the integral of a function is the opposite of calculating the derivative. This means that if you derive a function $f(x)$ and calculate the integral of the resulting function $f'(x)$ you will get back $f(x)$.😮\n",
    "\n",
    "The derivative at a point of a function gives its **rate of change**. What is the link between the function describing the rate of change of another function (the derivative) and the area under the curve 🤔?\n",
    "\n",
    "Let's start with a point on derivative! And then, with the next graphical example, it will be crystal clear. 🔮\n"
   ]
  },
  {
   "cell_type": "markdown",
   "metadata": {},
   "source": [
    "### Example 6.\n",
    "\n",
    "We want to modelise the speed of a vehicle. Let's say that the function $f(x) = x^2$ define its speed (y-axis) in function of time (x-axis).\n",
    "\n",
    "First, we will plot the function $f(x)=x^2$ it to see its shape:"
   ]
  },
  {
   "cell_type": "code",
   "execution_count": 14,
   "metadata": {
    "scrolled": true
   },
   "outputs": [
    {
     "data": {
      "text/plain": [
       "(-1, 10)"
      ]
     },
     "execution_count": 14,
     "metadata": {},
     "output_type": "execute_result"
    },
    {
     "data": {
      "image/png": "[encoded data removed]",
      "text/plain": [
       "<Figure size 432x288 with 1 Axes>"
      ]
     },
     "metadata": {
      "needs_background": "light"
     },
     "output_type": "display_data"
    }
   ],
   "source": [
    "x = np.arange(-10, 11, 0.1)\n",
    "fx = x ** 2\n",
    "\n",
    "plt.plot(x, fx)\n",
    "plt.xlim(-4, 4)plt.ylim(-1, 10)"
   ]
  },
  {
   "cell_type": "markdown",
   "metadata": {},
   "source": [
    "The shape is a parabola! It shows that the speed increases slowly at the beginning but increases more and more for a constant duration.\n",
    "\n",
    "I have created a variable $x$ (with the function `arange()` from Numpy) that contains all the points of the x-axis. So it is just all values from -10 to 10 with a step of $0.1$. Let's see the first 10 values."
   ]
  },
  {
   "cell_type": "code",
   "execution_count": 11,
   "metadata": {},
   "outputs": [
    {
     "data": {
      "text/plain": [
       "array([-10. ,  -9.9,  -9.8,  -9.7,  -9.6,  -9.5,  -9.4,  -9.3,  -9.2,\n",
       "        -9.1])"
      ]
     },
     "execution_count": 11,
     "metadata": {},
     "output_type": "execute_result"
    }
   ],
   "source": [
    "x[:10]"
   ]
  },
  {
   "cell_type": "markdown",
   "metadata": {},
   "source": [
    "Here is [the doc](https://docs.scipy.org/doc/numpy-1.15.0/reference/generated/numpy.arange.html) of the `arange()` function from Numpy.\n",
    "\n",
    "In our example, the function defines the speed of the vehicle in function of time so it doesn't make sense to have negative values. Let's take only the positive part of the x-axis to avoid negative time (we'll say that 0 is the start of the experiment)."
   ]
  },
  {
   "cell_type": "code",
   "execution_count": 15,
   "metadata": {},
   "outputs": [
    {
     "data": {
      "text/plain": [
       "(-1, 10)"
      ]
     },
     "execution_count": 15,
     "metadata": {},
     "output_type": "execute_result"
    },
    {
     "data": {
      "image/png": "[encoded data removed]",
      "text/plain": [
       "<Figure size 432x288 with 1 Axes>"
      ]
     },
     "metadata": {
      "needs_background": "light"
     },
     "output_type": "display_data"
    }
   ],
   "source": [
    "x = np.arange(0, 11, 0.1)\n",
    "fx = x ** 2\n",
    "\n",
    "plt.plot(x, fx)\n",
    "plt.xlim(-1, 4)\n",
    "plt.ylim(-1, 10)"
   ]
  },
  {
   "cell_type": "markdown",
   "metadata": {},
   "source": [
    "Ok, that's better!\n",
    "\n",
    "The derivative of this function is $f'(x)=2x$. To have more information about derivative rules, check [here](https://www.mathsisfun.com/calculus/derivatives-rules.html).\n",
    "\n",
    "Here is a plot of $f'(x)$:"
   ]
  },
  {
   "cell_type": "code",
   "execution_count": 5,
   "metadata": {},
   "outputs": [
    {
     "data": {
      "text/plain": [
       "(0, 10)"
      ]
     },
     "execution_count": 5,
     "metadata": {},
     "output_type": "execute_result"
    },
    {
     "data": {
      "image/png": "[encoded data removed]",
      "text/plain": [
       "<Figure size 432x288 with 1 Axes>"
      ]
     },
     "metadata": {
      "needs_background": "light"
     },
     "output_type": "display_data"
    }
   ],
   "source": [
    "x = np.arange(-10, 11)\n",
    "fx = 2 * x\n",
    "\n",
    "plt.plot(x, fx)\n",
    "plt.xlim(0, 10)\n",
    "plt.ylim(0, 10)"
   ]
  },
  {
   "cell_type": "markdown",
   "metadata": {},
   "source": [
    "### 🔧 Derivative\n",
    "\n",
    "This representation of the derivative shows the acceleration. $f(x)$ described the speed of the vehicle in function of time and the derivative $f'(x)$ shows the **rate of change** of the speed in function of time, that is the acceleration.\n",
    "\n",
    "We can see that the acceleration of the vehicle increases linearly with time. The derivative tells us that the rate of change of the vehicle speed is $2x$. For instance, when $x=0$, the rate of change is equal to $2\\times0=0$, so the speed is not changing. When $x=3$, the rate of change is $2\\times3=6$. This means that at this point, the speed is increased by $6$ when time is increased by $1$.\n",
    "\n",
    "To summarise, the derivative of a function gives its rate of change. In our example, the rate of change was another function ($f'(x) = 2x$) but it can be a constant (the rate of change is always the same, e.g. $f'(x)=2$) or a quadratic function for instance (e.g. $f'(x) = x^3$)."
   ]
  },
  {
   "cell_type": "markdown",
   "metadata": {},
   "source": [
    "### 🔧 Integrals\n",
    "\n",
    "Being able to calculate derivatives is very powerful but is it possible to do the reverse: going from the rate of change to the change itself 😮. Whoah, this is cool! The answer is given by the integral of a function.\n",
    "\n",
    "The integral of $f'(x)$ gives us $f(x)$ back. The notation is the following:\n",
    "\n",
    "$$\n",
    "\\int f'(x) dx = f(x)\n",
    "$$\n",
    "\n",
    "This means that we take $f'(x)$ to get back $f(x)$. The notation $dx$ here means that we integrate over $x$, that is to say, that we sum slices weighted by $y$ (see [here](https://www.mathsisfun.com/calculus/integration-introduction.html)).\n",
    "\n",
    "If we take again the last example we have:\n",
    "\n",
    "$$\n",
    "\\int 2x dx = x^2 + c\n",
    "$$\n",
    "\n",
    "We can see that there is a difference: the addition of a constant $c$. This is because an infinite number of function could have given the derivative $2x$ (for instance $x^2 + 1$ or $x^2 + 294$...). We lose a bit of information and we can't recover it.\n",
    "\n",
    "And now, the graphical explanation (I love this one 💛): we have seen that $2x$ is the function describing the rate of change (the slope) of the function $x^2$. Now if we go from $f'(x)$ to $f(x)$ we can see that the area under the curve of $f'(x)$ correspond to $f(x)$:\n",
    "\n",
    "<img src=\"images/area-under-curve-derivative.png\" width=\"600\" alt=\"Illustration of the area under the curve of the derivative: it corresponds to the original function\" title=\"Area under the curve of the derivative\">\n",
    "<em>The area under the curve of $f'(x)$ corresponds to $f(x)$. This shows how the integral and derivative are reverse operations.</em>\n",
    "\n",
    "This plot shows the function $f'(x)=2x$ and we can see that the area under the curve increases exponentially. This area is represented for different ranges ([0-0], [0-1], [0-2], [0-3]). We can calculate the area under the curve (using the Pythagorean theorem and dividing by 2 since the areas are half squares) and find the following values: 0, 1, 4, 9... This corresponds to the original function $f(x)=x^2$! 🎺\n",
    "\n",
    "## Conclusion\n",
    "\n",
    "To summarise, we have seen what is a random variable and how the distribution of probabilities can be expressed for discrete (probability mass function) and continuous variable (probability density function). We also studied the concept of joint probability distribution and bedrock math tools like derivatives and integrals.\n",
    "\n",
    "You now have all the tools to dive more into probability. The next part will be about the chapters 3.4 to 3.8. We will see what we called marginal and conditional probability, the chain rule and the concept of independence.\n",
    "\n",
    "I hope that this helped you to gain a better intuition on all of this! Feel free to contact me about any question/note/correction! 😀\n"
   ]
  }
 ],
 "metadata": {
  "hide_code_all_hidden": true,
  "kernelspec": {
   "display_name": "Python 3",
   "language": "python",
   "name": "python3"
  },
  "language_info": {
   "codemirror_mode": {
    "name": "ipython",
    "version": 3
   },
   "file_extension": ".py",
   "mimetype": "text/x-python",
   "name": "python",
   "nbconvert_exporter": "python",
   "pygments_lexer": "ipython3",
   "version": "3.7.2"
  },
  "varInspector": {
   "cols": {
    "lenName": 16,
    "lenType": 16,
    "lenVar": 40
   },
   "kernels_config": {
    "python": {
     "delete_cmd_postfix": "",
     "delete_cmd_prefix": "del ",
     "library": "var_list.py",
     "varRefreshCmd": "print(var_dic_list())"
    },
    "r": {
     "delete_cmd_postfix": ") ",
     "delete_cmd_prefix": "rm(",
     "library": "var_list.r",
     "varRefreshCmd": "cat(var_dic_list()) "
    }
   },
   "types_to_exclude": [
    "module",
    "function",
    "builtin_function_or_method",
    "instance",
    "_Feature"
   ],
   "window_display": false
  }
 },
 "nbformat": 4,
 "nbformat_minor": 2
}
