{
 "cells": [
  {
   "cell_type": "code",
   "execution_count": 1,
   "metadata": {
    "scrolled": false
   },
   "outputs": [],
   "source": [
    "import numpy as np\n",
    "import matplotlib.pyplot as plt\n",
    "import seaborn as sns"
   ]
  },
  {
   "cell_type": "code",
   "execution_count": 2,
   "metadata": {},
   "outputs": [
    {
     "name": "stdout",
     "output_type": "stream",
     "text": [
      "Populating the interactive namespace from numpy and matplotlib\n"
     ]
    }
   ],
   "source": [
    "# Plot style\n",
    "sns.set()\n",
    "%pylab inline\n",
    "pylab.rcParams['figure.figsize'] = (4, 4)\n",
    "# Avoid inaccurate floating values (for inverse matrices in dot product for instance)\n",
    "# See https://stackoverflow.com/questions/24537791/numpy-matrix-inversion-rounding-errors\n",
    "np.set_printoptions(suppress=True)"
   ]
  },
  {
   "cell_type": "code",
   "execution_count": 3,
   "metadata": {},
   "outputs": [
    {
     "data": {
      "text/html": [
       "<style>\n",
       ".pquote {\n",
       "  text-align: left;\n",
       "  margin: 40px 0 40px auto;\n",
       "  width: 70%;\n",
       "  font-size: 1.5em;\n",
       "  font-style: italic;\n",
       "  display: block;\n",
       "  line-height: 1.3em;\n",
       "  color: #5a75a7;\n",
       "  font-weight: 600;\n",
       "  border-left: 5px solid rgba(90, 117, 167, .1);\n",
       "  padding-left: 6px;\n",
       "}\n",
       ".notes {\n",
       "  font-style: italic;\n",
       "  display: block;\n",
       "  margin: 40px 10%;\n",
       "}\n",
       "img + em {\n",
       "  text-align: center;\n",
       "  display: block;\n",
       "  color: gray;\n",
       "  font-size: 0.9em;\n",
       "  font-weight: 600;\n",
       "}\n",
       "</style>\n"
      ],
      "text/plain": [
       "<IPython.core.display.HTML object>"
      ]
     },
     "metadata": {},
     "output_type": "display_data"
    }
   ],
   "source": [
    "%%html\n",
    "<style>\n",
    ".pquote {\n",
    "  text-align: left;\n",
    "  margin: 40px 0 40px auto;\n",
    "  width: 70%;\n",
    "  font-size: 1.5em;\n",
    "  font-style: italic;\n",
    "  display: block;\n",
    "  line-height: 1.3em;\n",
    "  color: #5a75a7;\n",
    "  font-weight: 600;\n",
    "  border-left: 5px solid rgba(90, 117, 167, .1);\n",
    "  padding-left: 6px;\n",
    "}\n",
    ".notes {\n",
    "  font-style: italic;\n",
    "  display: block;\n",
    "  margin: 40px 10%;\n",
    "}\n",
    "img + em {\n",
    "  text-align: center;\n",
    "  display: block;\n",
    "  color: gray;\n",
    "  font-size: 0.9em;\n",
    "  font-weight: 600;\n",
    "}\n",
    "</style>"
   ]
  },
  {
   "cell_type": "code",
   "execution_count": 4,
   "metadata": {},
   "outputs": [],
   "source": [
    "def plotVectors(vecs, cols, alpha=1):\n",
    "    \"\"\"\n",
    "    Plot set of vectors.\n",
    "\n",
    "    Parameters\n",
    "    ----------\n",
    "    vecs : array-like\n",
    "        Coordinates of the vectors to plot. Each vectors is in an array. For\n",
    "        instance: [[1, 3], [2, 2]] can be used to plot 2 vectors.\n",
    "    cols : array-like\n",
    "        Colors of the vectors. For instance: ['red', 'blue'] will display the\n",
    "        first vector in red and the second in blue.\n",
    "    alpha : float\n",
    "        Opacity of vectors\n",
    "\n",
    "    Returns:\n",
    "\n",
    "    fig : instance of matplotlib.figure.Figure\n",
    "        The figure of the vectors\n",
    "    \"\"\"\n",
    "    plt.figure()\n",
    "    plt.axvline(x=0, color='#A9A9A9', zorder=0)\n",
    "    plt.axhline(y=0, color='#A9A9A9', zorder=0)\n",
    "\n",
    "    for i in range(len(vecs)):\n",
    "        x = np.concatenate([[0,0],vecs[i]])\n",
    "        plt.quiver([x[0]],\n",
    "                   [x[1]],\n",
    "                   [x[2]],\n",
    "                   [x[3]],\n",
    "                   angles='xy', scale_units='xy', scale=1, color=cols[i],\n",
    "                  alpha=alpha)"
   ]
  },
  {
   "cell_type": "markdown",
   "metadata": {},
   "source": [
    "$$\n",
    "\\newcommand\\bs[1]{\\boldsymbol{#1}}\n",
    "$$"
   ]
  },
  {
   "cell_type": "markdown",
   "metadata": {},
   "source": [
    "<span class='notes'>\n",
    "    This content is part of a series following the chapter 2 on linear algebra from the [Deep Learning Book](http://www.deeplearningbook.org/) by Goodfellow, I., Bengio, Y., and Courville, A. (2016). It aims to provide intuitions/drawings/python code on mathematical theories and is constructed as my understanding of these concepts. You can check the syllabus in the [introduction post](https://hadrienj.github.io/posts/Deep-Learning-Book-Series-Introduction/).\n",
    "</span>"
   ]
  },
  {
   "cell_type": "markdown",
   "metadata": {},
   "source": [
    "# Introduction\n",
    "\n",
    "This chapter is quite heavy by its size and its content but I did what I could to make it more intuitive and visual. We will see how to represent systems of equations graphically, how to interpret the number of solutions of a system, what is linear combination and more. As usual, we will use Numpy/Matplotlib as a tool to experiment these concepts and hopefully gain a more concrete understanding."
   ]
  },
  {
   "cell_type": "markdown",
   "metadata": {},
   "source": [
    "# 2.4 Linear Dependence and Span\n",
    "\n",
    "Since it is all about systems of linear equations, let's start again with the set of equations:\n",
    "\n",
    "$$\\bs{Ax}=\\bs{b}$$\n",
    "\n",
    "We saw in [2.2](https://hadrienj.github.io/posts/Deep-Learning-Book-Series-2.2-Multiplying-Matrices-and-Vectors/) that this system corresponds to:\n",
    "\n",
    "$$\n",
    "A_{1,1}x_1 + A_{1,2}x_2 + \\cdots + A_{1,n}x_n = b_1 \\\\\\\\\n",
    "A_{2,1}x_1 + A_{2,2}x_2 + \\cdots + A_{2,n}x_n = b_2 \\\\\\\\\n",
    "\\cdots \\\\\\\\\n",
    "A_{m,1}x_1 + A_{m,2}x_2 + \\cdots + A_{m,n}x_n = b_n\n",
    "$$\n",
    "\n",
    "So we have multiple equations with multiple unknowns. We know $A_{1,1}...A_{m,n}$ and $b_1...b_n$. To solve the system we need to find the values of the variables $x_1...x_n$ that satisfies all equations."
   ]
  },
  {
   "cell_type": "markdown",
   "metadata": {},
   "source": [
    "# Number of solutions\n",
    "\n",
    "The first thing to ask when we face such a system of equations is: what is the number of solutions ?\n",
    "\n",
    "Three cases can represent the number of solutions of the system of equations $\\bs{Ax}=\\bs{b}$.\n",
    " \n",
    " 1. No solution\n",
    " 2. 1 solution\n",
    " 3. An infinite number of solutions\n",
    " \n",
    "## Why there can't be more than 1 solution and less than an infinite number of solutions ?\n",
    "\n",
    "### Intuition\n",
    "\n",
    "Simply because we deal with **linear** systems! Two lines can't cross more than once.\n",
    "\n",
    "To be able to visualize it, let's take two dimensions and two equations. The solutions of the system correspond to the intersection of the lines. One option is that the two lines never cross (parallel). Another option is that they cross once. And finally, the last option is that they cross everywhere (superimposed):\n",
    "\n",
    "<img src=\"images/number-solutions-system-equations.png\" width=\"700\" alt=\"Examples of systems of equations with 0, 1 and an infinite number of solutions\" title=\"System of equations with 0, 1 and an infinite number of solutions\">\n",
    "<em>A system of equations has no solution, 1 solution or an infinite number of solutions</em>\n",
    "\n",
    "<span class='pquote'>\n",
    "    Two lines can't cross more than once but can be either parallel or superimposed\n",
    "</span>\n",
    "\n",
    "### Proof\n",
    "\n",
    "Let's imagine that $\\bs{x}$ and $\\bs{y}$ are two solutions of our system. This means that\n",
    "\n",
    "$$\n",
    "\\begin{cases}\n",
    "\\bs{Ax}=\\bs{b}\\\\\\\\\n",
    "\\bs{Ay}=\\bs{b}\n",
    "\\end{cases}\n",
    "$$\n",
    "\n",
    "In that case, we will see that $\\bs{z}=\\alpha \\bs{x} + (1-\\alpha \\bs{y})$ is also a solution for any value of $\\alpha$. If $\\bs{z}$ is a solution, we can say that $\\bs{Az}=\\bs{b}$. Indeed, if we plug $\\bs{z}$ into the left hand side of the equation we obtain:\n",
    "\n",
    "$$\n",
    "\\begin{align*}\n",
    "\\bs{Az}&=\\bs{A}(\\alpha x + (1-\\alpha y))\\\\\\\\\n",
    "    &=\\bs{Ax}\\alpha + \\bs{A}(1-\\alpha y)\\\\\\\\\n",
    "    &=\\bs{Ax}\\alpha + \\bs{Ay}(1-\\alpha)\n",
    "\\end{align*}\n",
    "$$\n",
    "\n",
    "And since $\\bs{Ax}=\\bs{Ay}=\\bs{b}$. This leads to:\n",
    "\n",
    "$$\n",
    "\\begin{align*}\n",
    "\\bs{Az}&=\\bs{b}\\alpha + \\bs{b}(1-\\alpha)\\\\\\\\\n",
    "    &=\\bs{b}\\alpha + \\bs{b}-\\bs{b}\\alpha\\\\\\\\\n",
    "    &=\\bs{b}\n",
    "\\end{align*}\n",
    "$$\n",
    "\n",
    "So $\\bs{z}$ is also a solution."
   ]
  },
  {
   "cell_type": "markdown",
   "metadata": {},
   "source": [
    "# Matrix representation of the system\n",
    "\n",
    "As we saw it, the equation $\\bs{Ax}=\\bs{b}$ can be represented by a matrix $\\bs{A}$ containing the weigths of each variable and a vector $\\bs{x}$ containing each variable (see [2.2](https://hadrienj.github.io/posts/Deep-Learning-Book-Series-2.2-Multiplying-Matrices-and-Vectors/)). The product of $\\bs{A}$ and $\\bs{x}$ gives $\\bs{b}$ that is another vector of size $m$:\n",
    "\n",
    "$$\n",
    "\\begin{bmatrix}\n",
    "    A_{1,1} & A_{1,2} & \\cdots & A_{1,n} \\\\\\\\\n",
    "    A_{2,1} & A_{2,2} & \\cdots & A_{2,n} \\\\\\\\\n",
    "    \\cdots & \\cdots & \\cdots & \\cdots \\\\\\\\\n",
    "    A_{m,1} & A_{m,2} & \\cdots & A_{m,n}\n",
    "\\end{bmatrix}\n",
    "\\times\n",
    "\\begin{bmatrix}\n",
    "    x_1 \\\\\\\\\n",
    "    x_2 \\\\\\\\\n",
    "    \\cdots \\\\\\\\\n",
    "    x_n\n",
    "\\end{bmatrix}\n",
    "=\n",
    "\\begin{bmatrix}\n",
    "    b_1 \\\\\\\\\n",
    "    b_2 \\\\\\\\\n",
    "    \\cdots \\\\\\\\\n",
    "    b_m\n",
    "\\end{bmatrix}\n",
    "$$\n",
    "\n",
    "Which corresponds to the set of linear equations\n",
    "\n",
    "$$\n",
    "A_{1,1}x_1 + A_{1,2}x_2 + \\cdots + A_{1,n}x_n = b_1 \\\\\\\\\n",
    "A_{2,1}x_1 + A_{2,2}x_2 + \\cdots + A_{2,n}x_n = b_2 \\\\\\\\\n",
    "\\cdots \\\\\\\\\n",
    "A_{m,1}x_1 + A_{m,2}x_2 + \\cdots + A_{m,n}x_n = b_n\n",
    "$$\n",
    "\n",
    "Here are some intuitions about what is represented by these matrices. The number of columns of $\\bs{A}$ is the number of dimensions of our vector space. It is the number $n$ of directions we can travel by. The number of solutions of our linear system corresponds to the number of ways we can reach $\\bs{b}$ by travelling through our $n$ dimensions.\n",
    "\n",
    "But to understand this, we need to underline that two possibilities exist to represent the system of equations: ***the row figure*** and ***the column figure***."
   ]
  },
  {
   "cell_type": "markdown",
   "metadata": {},
   "source": [
    "# Graphical views: Row and column figures\n",
    "\n",
    "\n",
    "I recommend to look at [this video lesson of Gilbert Strang](http://ia802205.us.archive.org/18/items/MIT18.06S05_MP4/01.mp4). It provides a very nice intuition about these two ways of looking at a system of linear equations.\n",
    "\n",
    "\n",
    "When you are looking to the matrix $\\bs{A}$:\n",
    "\n",
    "$$\n",
    "\\bs{A}=\\begin{bmatrix}\n",
    "    A_{1,1} & A_{1,2} & \\cdots & A_{1,n} \\\\\\\\\n",
    "    A_{2,1} & A_{2,2} & \\cdots & A_{2,n} \\\\\\\\\n",
    "    \\cdots & \\cdots & \\cdots & \\cdots \\\\\\\\\n",
    "    A_{m,1} & A_{m,2} & \\cdots & A_{m,n}\n",
    "\\end{bmatrix}\n",
    "$$\n",
    "\n",
    "You can consider its rows or its columns separately. Recall that the values are the weights corresponding to each variable. Each row synthetizes one equation. Each column is the set of weights given to 1 variable.\n",
    "\n",
    "It is possible to draw a different graphical represention of the set of equations looking at the rows or at the columns."
   ]
  },
  {
   "cell_type": "markdown",
   "metadata": {},
   "source": [
    "## Graphical view 1: the row figure\n",
    "\n",
    "The row figure is maybe more usual because it is the representation used when we have only one equation. It can now be extended to an infinite number of equations and unknowns (even if it would be hard to represent a 9-dimensional hyperplane in a 10-dimensional space...).\n",
    "\n",
    "We said that the solutions of the linear system of equations are the sets of values of $x_1...x_n$ that satisfies all equations, that is to say, the values taken by the unknowns. For instance, in the case of $\\bs{A}$ being a ($2 \\times 2$) matrix ($n=m=2$) the equations correspond to lines in a 2-dimensional space and the solution of the system is the intersection of these lines.\n",
    "\n",
    "Note that associating one direction in space to one parameter is only one way to represent the equations. There are number of ways to represent more than 3 parameters systems. For instance, you can add colors to have the representation of a fourth dimension. It is all about **representation**.\n",
    "\n",
    "<img src=\"images/representing-features.png\" width=\"900\" alt=\"Different ways of representing features\" title=\"Feature representation\">\n",
    "<em>Graphical representations of features</em>\n",
    "\n",
    "### Overdetermined and underdetermined systems\n",
    "\n",
    "A linear system of equations can be viewed as a set of $(n-1)$-dimensional hyperplanes in a *n*-dimensional space. So the linear system can be characterized with its number of equations ($m$) and the number of unknown variables ($n$).\n",
    "\n",
    "- If there are more equations than unknows the system is called **overdetermined**. In the following example we can see a system of 3 equations (represented by 3 lines) and 2 unknowns (corresponding to 2 dimensions). In this example there is no solution since there is no point belonging to the three lines:\n",
    "\n",
    "<img src=\"images/overdetermined-system-linear-equations.png\" width=\"300\" alt=\"Example of an overdetermined system of linear equations with no solution\" title=\"Example of an overdetermined system of linear equations with no solution\">\n",
    "<em>Example of an overdetermined system of linear equations with no solution</em>\n",
    "\n",
    "- If there is more unknowns than equations the system is called **underdetermined**. In the following picture, there is only 1 equation (1 line) and 2 dimensions. Each point that is on the line is a solution of the system. In this case there is an infinite number of solutions:\n",
    "\n",
    "<img src=\"images/underdetermined-system-linear-equations.png\" width=\"300\" alt=\"Example of an underdetermined system of linear equations with an infinite number of solutions\" title=\"Example of an underdetermined system of linear equations with an infinite number of solutions\">\n",
    "<em>Example of an underdetermined system of linear equations with an infinite number of solutions</em>\n",
    "\n",
    "\n",
    "Let's see few examples of these different cases to clarify that."
   ]
  },
  {
   "cell_type": "markdown",
   "metadata": {},
   "source": [
    "### Example 1. \n",
    "\n",
    "$m=1$, $n=2$: **1 equation and 2 variables**\n",
    "\n",
    "$$\n",
    "A_{1,1}x_1 + A_{1,2}x_2 = b_1\n",
    "$$\n",
    "\n",
    "The graphical interpretation of $n=2$ is that we have a 2-D space. So we can represent it with 2 axes. Since our hyperplane is of $n-1$-dimensional, we have a 1-D hyperplane. This is simply a line. As $m=1$, we have only one equation. This means that we have only one line characterizing our linear system.\n",
    "\n",
    "Note that the last equation can also be written in a way that may be more usual:\n",
    "\n",
    "$$\n",
    "y = ax + b\n",
    "$$\n",
    "\n",
    "with $y$ corresponding to $x_2$, $x$ corresponding to $x_1$, $a$ corresponding to $A_{1,1}$ and $A_{1,2}=1$.\n",
    "\n",
    "For this first example we will take the following equation:\n",
    "\n",
    "$$\n",
    "y = 2x + 1\n",
    "$$\n",
    "\n",
    "Let's draw the line of this equation with Numpy and Matplotlib (see BONUS in [2.3](https://hadrienj.github.io/posts/Deep-Learning-Book-Series-2.3-Identity-and-Inverse-Matrices/) for light tips to plot equations)."
   ]
  },
  {
   "cell_type": "code",
   "execution_count": 5,
   "metadata": {},
   "outputs": [
    {
     "data": {
      "image/png": "[encoded data removed]",
      "text/plain": [
       "<Figure size 288x288 with 1 Axes>"
      ]
     },
     "metadata": {
      "needs_background": "light"
     },
     "output_type": "display_data"
    }
   ],
   "source": [
    "x = np.arange(-10, 10)\n",
    "y = 2*x + 1\n",
    "\n",
    "plt.figure()\n",
    "plt.plot(x, y)\n",
    "plt.xlim(-2, 10)\n",
    "plt.ylim(-2, 10)\n",
    "# draw axes\n",
    "plt.axvline(x=0, color='#A9A9A9')\n",
    "plt.axhline(y=0, color='#A9A9A9')\n",
    "plt.show()\n",
    "plt.close()"
   ]
  },
  {
   "cell_type": "markdown",
   "metadata": {
    "collapsed": true
   },
   "source": [
    "#### Solutions\n",
    "\n",
    "The solutions of this linear system correspond to the value of $x$ and $y$ such as $y=2x+1$. Graphically, it corresponds to each point on the line so there is an infinite number of solutions. For instance, one solution is $x=0$ and $y=1$, or $x=1$ and $y=3$ and so on."
   ]
  },
  {
   "cell_type": "markdown",
   "metadata": {
    "collapsed": true
   },
   "source": [
    "### Example 2.\n",
    "\n",
    "*m*=2, *n*=2: **2 equations and 2 unknowns**\n",
    "\n",
    "$$\n",
    "A_{1,1}x_1 + A_{1,2}x_2 = b_1\\\\\\\\\n",
    "A_{2,1}x_1 + A_{2,2}x_2 = b_2\n",
    "$$"
   ]
  },
  {
   "cell_type": "markdown",
   "metadata": {
    "collapsed": true
   },
   "source": [
    "The graphical interpretation of this system is that we still have lines in a 2-D space. However this time there are 2 lines since there are 2 equations.\n",
    "\n",
    "Let's take these equations as example:\n",
    "\n",
    "$$\n",
    "\\begin{cases}\n",
    "y = 2x + 1\\\\\\\\\n",
    "y = 6x - 2\n",
    "\\end{cases}\n",
    "$$\n"
   ]
  },
  {
   "cell_type": "code",
   "execution_count": 6,
   "metadata": {},
   "outputs": [
    {
     "data": {
      "image/png": "[encoded data removed]",
      "text/plain": [
       "<Figure size 288x288 with 1 Axes>"
      ]
     },
     "metadata": {
      "needs_background": "light"
     },
     "output_type": "display_data"
    }
   ],
   "source": [
    "x = np.arange(-10, 10)\n",
    "y = 2*x + 1\n",
    "y1 = 6*x - 2\n",
    "\n",
    "plt.figure()\n",
    "plt.plot(x, y)\n",
    "plt.plot(x, y1)\n",
    "plt.xlim(-2, 10)\n",
    "plt.ylim(-2, 10)\n",
    "# draw axes\n",
    "plt.axvline(x=0, color='#A9A9A9')\n",
    "plt.axhline(y=0, color='#A9A9A9')\n",
    "plt.show()\n",
    "plt.close()"
   ]
  },
  {
   "cell_type": "markdown",
   "metadata": {},
   "source": [
    "As we have seen, with 2 lines in a 2-D space, there are multiple possible cases. On the above figure, the two lines are crossing so there is one unique solution. If they are superimposed (same equation or equivalent, *cf*. linear dependance bellow) there are a infinite number of solutions since each points of the lines corresponds to an intersection. If they are parallel, there is no solution.\n",
    "\n",
    "The same thing can be observed with other values of $m$ (number of equations) and $n$ (number of dimensions). For instance, two 2-D planes in a 3-D space can be superposed (infinitely many solutions), or crossed (infinitely many solutions since their crossing is a line), or parallel (no solution)."
   ]
  },
  {
   "cell_type": "markdown",
   "metadata": {},
   "source": [
    "### Example 3.\n",
    "\n",
    "*m*=3, *n*=2: **3 equations and 2 unknowns**\n",
    "\n",
    "$$\n",
    "A_{1,1}x_1 + A_{1,2}x_2 = b_1\\\\\\\\\n",
    "A_{2,1}x_1 + A_{2,2}x_2 = b_2\\\\\\\\\n",
    "A_{3,1}x_1 + A_{3,2}x_2 = b_3\n",
    "$$\n",
    "\n",
    "The same idea stands with more than 2 equations in a 2-D space. In that example we have the following 3 equations:\n",
    "\n",
    "$$\n",
    "\\begin{cases}\n",
    "y = 2x + 1\\\\\\\\\n",
    "y = 6x - 2\\\\\\\\\n",
    "y = \\frac{1}{10}x+6\n",
    "\\end{cases}\n",
    "$$"
   ]
  },
  {
   "cell_type": "code",
   "execution_count": 7,
   "metadata": {},
   "outputs": [
    {
     "data": {
      "image/png": "[encoded data removed]",
      "text/plain": [
       "<Figure size 288x288 with 1 Axes>"
      ]
     },
     "metadata": {
      "needs_background": "light"
     },
     "output_type": "display_data"
    }
   ],
   "source": [
    "x = np.arange(-10, 10)\n",
    "y = 2*x + 1\n",
    "\n",
    "y1 = 6*x - 2\n",
    "y2 = 0.1*x+6\n",
    "\n",
    "plt.figure()\n",
    "plt.plot(x, y)\n",
    "plt.plot(x, y1)\n",
    "plt.plot(x, y2)\n",
    "plt.xlim(-2, 10)\n",
    "plt.ylim(-2, 10)\n",
    "# draw axes\n",
    "plt.axvline(x=0, color='#A9A9A9')\n",
    "plt.axhline(y=0, color='#A9A9A9')\n",
    "plt.show()\n",
    "plt.close()"
   ]
  },
  {
   "cell_type": "markdown",
   "metadata": {},
   "source": [
    "In the above case, there is 3 equations and no solution because there is no point in space that is on each of these lines."
   ]
  },
  {
   "cell_type": "markdown",
   "metadata": {},
   "source": [
    "## Linear combination\n",
    "\n",
    "Before going to the column figure, we need to talk about linear combination. The linear combination of 2 vectors corresponds to their weighted sum.\n",
    "\n",
    "### Example 4.\n",
    "\n",
    "Let's take two vectors\n",
    "\n",
    "$$\n",
    "\\vec{u}=\n",
    "\\begin{bmatrix}\n",
    "    1 \\\\\\\\\n",
    "    3\n",
    "\\end{bmatrix}\n",
    "$$\n",
    "\n",
    "and\n",
    "\n",
    "$$\n",
    "\\vec{v}=\n",
    "\\begin{bmatrix}\n",
    "    2 \\\\\\\\\n",
    "    1\n",
    "\\end{bmatrix}\n",
    "$$\n",
    "\n",
    "These two vectors have 2 dimensions and thus contain coordinates in 2-D.\n",
    "\n",
    "\n",
    "The linear combination of $\\vec{u}$ and $\\vec{v}$ is\n",
    "\n",
    "$$\n",
    "a\\vec{u}+b\\vec{v}= a\n",
    "\\begin{bmatrix}\n",
    "    1 \\\\\\\\\n",
    "    3\n",
    "\\end{bmatrix} + b\\begin{bmatrix}\n",
    "    2 \\\\\\\\\n",
    "    1\n",
    "\\end{bmatrix}\n",
    "$$\n",
    "\n",
    "with $a$ and $b$ the weights of the vectors.\n",
    "\n",
    "Graphically, the vectors are added to reach a specific point in space. For example if $a=2$ and $b=1$:\n",
    "\n",
    "$$\n",
    "2\\vec{u}+\\vec{v}= 2\n",
    "\\begin{bmatrix}\n",
    "    1 \\\\\\\\\n",
    "    3\n",
    "\\end{bmatrix} +\n",
    "\\begin{bmatrix}\n",
    "    2 \\\\\\\\\n",
    "    1\n",
    "\\end{bmatrix} =\n",
    "\\begin{bmatrix}\n",
    "    2 \\cdot 1 + 2 \\\\\\\\\n",
    "    2 \\cdot 3 + 1\n",
    "\\end{bmatrix} =\n",
    "\\begin{bmatrix}\n",
    "    4 \\\\\\\\\n",
    "    7\n",
    "\\end{bmatrix}\n",
    "$$\n",
    "\n",
    "The sum of $\\vec{u}$ and $\\vec{v}$ is a vector that will reach the point of corrdinates $(4, 7)$. To show that on a plot, I will use the custom function `plotVectors()` that I defined at the beginning of [the notebook](https://github.com/hadrienj/deepLearningBook-Notes/blob/master/2.4%20Linear%20Dependence%20and%20Span/2.4%20Linear%20Dependence%20and%20Span.ipynb). It takes a set of coordinates and an array of colors as input and plot the corresponding vectors. So let's plot $\\vec{u}$ and $\\vec{v}$:"
   ]
  },
  {
   "cell_type": "code",
   "execution_count": 8,
   "metadata": {},
   "outputs": [
    {
     "data": {
      "text/plain": [
       "(0, 5)"
      ]
     },
     "execution_count": 8,
     "metadata": {},
     "output_type": "execute_result"
    },
    {
     "data": {
      "image/png": "[encoded data removed]",
      "text/plain": [
       "<Figure size 288x288 with 1 Axes>"
      ]
     },
     "metadata": {
      "needs_background": "light"
     },
     "output_type": "display_data"
    }
   ],
   "source": [
    "orange = '#FF9A13'\n",
    "blue = '#1190FF'\n",
    "plotVectors([[1, 3], [2, 1]], [orange, blue])\n",
    "plt.xlim(0, 5)\n",
    "plt.ylim(0, 5)"
   ]
  },
  {
   "cell_type": "markdown",
   "metadata": {},
   "source": [
    "We will now add these vectors and their weights. This gives:"
   ]
  },
  {
   "cell_type": "code",
   "execution_count": 9,
   "metadata": {},
   "outputs": [
    {
     "data": {
      "image/png": "[encoded data removed]",
      "text/plain": [
       "<Figure size 288x288 with 1 Axes>"
      ]
     },
     "metadata": {
      "needs_background": "light"
     },
     "output_type": "display_data"
    }
   ],
   "source": [
    "# Weigths of the vectors\n",
    "a = 2\n",
    "b = 1\n",
    "# Start and end coordinates of the vectors\n",
    "u = [0,0,1,3]\n",
    "v = [2,6,2,1]\n",
    "\n",
    "plt.quiver([u[0], a*u[0], b*v[0]],\n",
    "           [u[1], a*u[1], b*v[1]],\n",
    "           [u[2], a*u[2], b*v[2]],\n",
    "           [u[3], a*u[3], b*v[3]],\n",
    "           angles='xy', scale_units='xy', scale=1, color=[orange, orange, blue])\n",
    "plt.xlim(-1, 8)\n",
    "plt.ylim(-1, 8)\n",
    "# Draw axes\n",
    "plt.axvline(x=0, color='#A9A9A9')\n",
    "plt.axhline(y=0, color='#A9A9A9')\n",
    "plt.scatter(4,7,marker='x',s=50)\n",
    "# Draw the name of the vectors\n",
    "plt.text(-0.5, 2, r'$\\vec{u}$', color=orange, size=18)\n",
    "plt.text(0.5, 4.5, r'$\\vec{u}$', color=orange, size=18)\n",
    "plt.text(2.5, 7, r'$\\vec{v}$', color=blue, size=18)\n",
    "plt.show()\n",
    "plt.close()"
   ]
  },
  {
   "cell_type": "markdown",
   "metadata": {},
   "source": [
    "We can see that we end up with the coordinates ($4$, $7$)."
   ]
  },
  {
   "cell_type": "markdown",
   "metadata": {},
   "source": [
    "## Span\n",
    "\n",
    "Take the vectors $\\vec{u}$ and $\\vec{v}$ from the previous example and think about all the points you can reach by their combination changing $a$ and $b$. This set of points is the span of the set of vectors $\\{\\vec{u}, \\vec{v}\\}$."
   ]
  },
  {
   "cell_type": "code",
   "execution_count": 10,
   "metadata": {},
   "outputs": [
    {
     "data": {
      "image/png": "[encoded data removed]",
      "text/plain": [
       "<Figure size 288x288 with 1 Axes>"
      ]
     },
     "metadata": {
      "needs_background": "light"
     },
     "output_type": "display_data"
    }
   ],
   "source": [
    "# Defining u and v\n",
    "u = [1, 3]\n",
    "v = [2, 1]\n",
    "\n",
    "# Ploting a sample of the set of points in the span of u and v\n",
    "for a in range(-10, 10):\n",
    "    for b in range(-10, 10):\n",
    "        plt.scatter(u[0] * a + v[0] * b, u[1] * a + v[1] * b, marker='.', color=blue)\n",
    "\n",
    "# Defining x and y sizes\n",
    "plt.xlim(-50, 50)\n",
    "plt.ylim(-50, 50)\n",
    "\n",
    "# Draw axes\n",
    "plt.axvline(x=0, color='#A9A9A9')\n",
    "plt.axhline(y=0, color='#A9A9A9')\n",
    "\n",
    "plt.show()\n",
    "plt.close()"
   ]
  },
  {
   "cell_type": "markdown",
   "metadata": {},
   "source": [
    "## Note on spaces and subspaces\n",
    "\n",
    "(For more details see Strang (2006), p.70)\n",
    "\n",
    "The space of a vector determines all the values that can be taken by this vector. The vector spaces are denoted $\\mathbb{R}$ because the values are real numbers. If there are multiple dimensions the space is denoted $\\mathbb{R}^n$ with $n$ corresponding to the number of dimensions. For instance $\\mathbb{R}^2$ is the space of the usual $x$-$y$ plane where $x$ and $y$ values are real numbers.\n",
    "\n",
    "If you take a 2-dimensional plane in $\\mathbb{R}^3$ (3-dimensional space), this plane is a **subspace** of your original $\\mathbb{R}^3$ space. On the same manner, if you start with a $\\mathbb{R}^2$ space and take a line in this space, this line is a subspace of the original space.\n",
    "\n",
    "The linear combination of vectors gives vectors in the original space. Every linear combination of vectors inside a space will stay in this space. For instance, if you take 2 lines in a $\\mathbb{R}^2$ space, any linear combinations will give you a vector in the same $\\mathbb{R}^2$ space.\n",
    "\n",
    "<span class='pquote'>\n",
    "    The linear combination of vectors gives vectors in the original space\n",
    "</span>"
   ]
  },
  {
   "cell_type": "markdown",
   "metadata": {},
   "source": [
    "## Graphical view 2: the column figure\n",
    "\n",
    "It is also possible to represent the set of equations by considering that the solution vector $\\bs{b}$ corresponds to a linear combination of each columns multiplied by their weights.\n",
    "\n",
    "From the set of equations:\n",
    "\n",
    "$$\n",
    "A_{1,1}x_1 + A_{1,2}x_2 + A_{1,n}x_n = b_1 \\\\\\\\\n",
    "A_{2,1}x_1 + A_{2,2}x_2 + A_{2,n}x_n = b_2 \\\\\\\\\n",
    "\\cdots \\\\\\\\\n",
    "A_{m,1}x_1 + A_{m,2}x_2 + A_{m,n}x_n = b_m\n",
    "$$\n",
    "\n",
    "The column form is then:\n",
    "\n",
    "$$\n",
    "x_1\n",
    "\\begin{bmatrix}\n",
    "    A_{1,1}\\\\\\\\\n",
    "    A_{2,1}\\\\\\\\\n",
    "    A_{m,1}\n",
    "\\end{bmatrix}\n",
    "+\n",
    "x_2\n",
    "\\begin{bmatrix}\n",
    "    A_{1,2}\\\\\\\\\n",
    "    A_{2,2}\\\\\\\\\n",
    "    A_{m,2}\n",
    "\\end{bmatrix}\n",
    "+\n",
    "x_n\n",
    "\\begin{bmatrix}\n",
    "    A_{1,n}\\\\\\\\\n",
    "    A_{2,n}\\\\\\\\\n",
    "    A_{m,n}\n",
    "\\end{bmatrix}\n",
    "=\n",
    "\\begin{bmatrix}\n",
    "    b_1\\\\\\\\\n",
    "    b_2\\\\\\\\\n",
    "    b_m\n",
    "\\end{bmatrix}\n",
    "$$\n",
    "\n",
    "On a graphical point of view, we have to travel from the origin (zero on every dimensions) to the point of coordinate $\\bs{b}$. The columns of $\\bs{A}$ give us the directions we can travel by and their weights are the length of the way in that direction.\n",
    "\n",
    "<span class='pquote'>\n",
    "     The columns of $\\bs{A}$ give us the directions we can travel by and their weights are the length of the way in each direction.\n",
    "</span>"
   ]
  },
  {
   "cell_type": "markdown",
   "metadata": {},
   "source": [
    "### Example 5. \n",
    "\n",
    "$m=2$, $n=2$: 2 equations and 2 variables\n",
    "\n",
    "$$\n",
    "A_{1,1}x_1 + A_{1,2}x_2 = b_1\\\\\\\\\n",
    "A_{2,1}x_1 + A_{2,2}x_2 = b_2\n",
    "$$\n",
    "\n",
    "$$\n",
    "\\begin{cases}\n",
    "y = \\frac{1}{2}x+1\\\\\\\\\n",
    "y = -x + 4\n",
    "\\end{cases}\n",
    "\\Leftrightarrow\n",
    "\\begin{cases}\n",
    "\\frac{1}{2}x-y = -1\\\\\\\\\n",
    "x+y=4\n",
    "\\end{cases}\n",
    "$$\n",
    "\n",
    "So here is the matrix $\\bs{A}$:\n",
    "\n",
    "$$\n",
    "\\bs{A}=\n",
    "\\begin{bmatrix}\n",
    "    \\frac{1}{2} & -1 \\\\\\\\\n",
    "    1 & 1\n",
    "\\end{bmatrix}\n",
    "$$\n",
    "\n",
    "The column figure gives us:\n",
    "\n",
    "$$\n",
    "x\n",
    "\\begin{bmatrix}\n",
    "    \\frac{1}{2} \\\\\\\\\n",
    "    1\n",
    "\\end{bmatrix}\n",
    "+\n",
    "y\n",
    "\\begin{bmatrix}\n",
    "    -1 \\\\\\\\\n",
    "    1\n",
    "\\end{bmatrix}\n",
    "=\n",
    "\\begin{bmatrix}\n",
    "    -1 \\\\\\\\\n",
    "    4\n",
    "\\end{bmatrix}\n",
    "$$\n",
    "\n",
    "The goal is to find the value of the weights ($x$ and $y$) for which the linear combination of the vector\n",
    "\n",
    "$$\n",
    "\\begin{bmatrix}\n",
    "    \\frac{1}{2} \\\\\\\\\n",
    "    1\n",
    "\\end{bmatrix}\n",
    "$$\n",
    "\n",
    "and\n",
    "\n",
    "$$\n",
    "\\begin{bmatrix}\n",
    "    -1 \\\\\\\\\n",
    "    1\n",
    "\\end{bmatrix}\n",
    "$$\n",
    "\n",
    "gives the vector \n",
    "\n",
    "$$\n",
    "\\begin{bmatrix}\n",
    "    -1 \\\\\\\\\n",
    "    4\n",
    "\\end{bmatrix}\n",
    "$$\n",
    "\n",
    "We will solve the system graphically by plotting the equations and looking for their intersection:"
   ]
  },
  {
   "cell_type": "code",
   "execution_count": 11,
   "metadata": {},
   "outputs": [
    {
     "data": {
      "image/png": "[encoded data removed]",
      "text/plain": [
       "<Figure size 288x288 with 1 Axes>"
      ]
     },
     "metadata": {
      "needs_background": "light"
     },
     "output_type": "display_data"
    }
   ],
   "source": [
    "x = np.arange(-10, 10)\n",
    "y = 0.5*x + 1\n",
    "\n",
    "y1 = -x + 4\n",
    "\n",
    "plt.figure()\n",
    "plt.plot(x, y)\n",
    "plt.plot(x, y1)\n",
    "plt.xlim(-2, 10)\n",
    "plt.ylim(-2, 10)\n",
    "# draw axes\n",
    "plt.axvline(x=0, color='#A9A9A9')\n",
    "plt.axhline(y=0, color='#A9A9A9')\n",
    "plt.show()\n",
    "plt.close()"
   ]
  },
  {
   "cell_type": "markdown",
   "metadata": {},
   "source": [
    "We can see that the solution (the intersection of the lines representing our two equations) is $x=2$ and $y=2$. This means that the linear combination is the following:\n",
    "\n",
    "$$\n",
    "2\n",
    "\\begin{bmatrix}\n",
    "    \\frac{1}{2} \\\\\\\\\n",
    "    1\n",
    "\\end{bmatrix}\n",
    "+\n",
    "2\n",
    "\\begin{bmatrix}\n",
    "    -1 \\\\\\\\\n",
    "    1\n",
    "\\end{bmatrix}\n",
    "=\n",
    "\\begin{bmatrix}\n",
    "    -1 \\\\\\\\\n",
    "    4\n",
    "\\end{bmatrix}\n",
    "$$\n",
    "\n",
    "Let's say that \n",
    "\n",
    "$$\n",
    "\\vec{u}=\n",
    "\\begin{bmatrix}\n",
    "    \\frac{1}{2} \\\\\\\\\n",
    "    1\n",
    "\\end{bmatrix}\n",
    "$$\n",
    "\n",
    "and\n",
    "\n",
    "$$\n",
    "\\vec{v}=\n",
    "\\begin{bmatrix}\n",
    "    -1 \\\\\\\\\n",
    "    1\n",
    "\\end{bmatrix}\n",
    "$$\n",
    "\n",
    "To talk in term of the column figure we can reach the point of coordinates $(-1, 4)$ if we add two times the vector $\\vec{u}$ and two times the vector $\\vec{v}$. Let's check that:"
   ]
  },
  {
   "cell_type": "code",
   "execution_count": 12,
   "metadata": {},
   "outputs": [
    {
     "data": {
      "image/png": "[encoded data removed]",
      "text/plain": [
       "<Figure size 288x288 with 1 Axes>"
      ]
     },
     "metadata": {
      "needs_background": "light"
     },
     "output_type": "display_data"
    }
   ],
   "source": [
    "u = [0,0,0.5,1]\n",
    "u_bis = [u[2],u[3],u[2],u[3]]\n",
    "v = [2*u[2],2*u[3],-1,1]\n",
    "v_bis = [2*u[2]-1,2*u[3]+1,v[2],v[3]]\n",
    "\n",
    "plt.quiver([u[0], u_bis[0], v[0], v_bis[0]],\n",
    "           [u[1], u_bis[1], v[1], v_bis[1]],\n",
    "           [u[2], u_bis[2], v[2], v_bis[2]],\n",
    "           [u[3], u_bis[3], v[3], v_bis[3]],\n",
    "           angles='xy', scale_units='xy', scale=1, color=[blue, blue, orange, orange])\n",
    "# plt.rc('text', usetex=True)\n",
    "plt.xlim(-1.5, 2)\n",
    "plt.ylim(-0.5, 4.5)\n",
    "# draw axes\n",
    "plt.axvline(x=0, color='#A9A9A9')\n",
    "plt.axhline(y=0, color='#A9A9A9')\n",
    "plt.scatter(-1,4,marker='x',s=50)\n",
    "plt.text(0, 0.5, r'$\\vec{u}$', color=blue, size=18)\n",
    "plt.text(0.5, 1.5, r'$\\vec{u}$', color=blue, size=18)\n",
    "plt.text(0.5, 2.7, r'$\\vec{v}$', color=orange, size=18)\n",
    "plt.text(-0.8, 3, r'$\\vec{v}$', color=orange, size=18)\n",
    "plt.show()\n",
    "plt.close()"
   ]
  },
  {
   "cell_type": "markdown",
   "metadata": {},
   "source": [
    "We can see that it is working! We arrive to the point ($-1$, $4$)."
   ]
  },
  {
   "cell_type": "markdown",
   "metadata": {},
   "source": [
    "## Determine if the system has one and only one solution for every value of $\\bs{b}$\n",
    "\n",
    "We will now see how to determine if a system of equations has one and only one solution. Note that this is only the general cases. This can be split into two requirements:\n",
    "\n",
    "1. The system must have at least one solution\n",
    "2. Then, the system must have **only** one solution\n",
    "\n",
    "### Requirement 1. Underdetermined system: the system must have at least one solution for each value of $\\bs{b}$: $n\\geq m$\n",
    "\n",
    "<span class='pquote'>\n",
    "     An underdetermined system of equations is a system with less equations than unknowns\n",
    "</span>\n",
    "\n",
    "If we want our system to have one and only one solution a first requirement is that $n$ must not be bigger than $m$.\n",
    "\n",
    "Let's take the example of a ($2\\times 3$) matrix that corresponds to a set of 2 equations with 3 unknowns variables:\n",
    "\n",
    "\n",
    "<div>\n",
    "$$\n",
    "\\begin{cases}\n",
    "8x+y+z=1\\\\\\\\\n",
    "x+y+z=1\n",
    "\\end{cases}\n",
    "$$\n",
    "</div>\n",
    "\n",
    "<div>\n",
    "$$\n",
    "x\n",
    "\\begin{bmatrix}\n",
    "    8 \\\\\\\\\n",
    "    1\n",
    "\\end{bmatrix}\n",
    "+\n",
    "y\n",
    "\\begin{bmatrix}\n",
    "    1 \\\\\\\\\n",
    "    1\n",
    "\\end{bmatrix}\n",
    "+\n",
    "z\n",
    "\\begin{bmatrix}\n",
    "    1 \\\\\\\\\n",
    "    1\n",
    "\\end{bmatrix}\n",
    "=\n",
    "\\begin{bmatrix}\n",
    "    1 \\\\\\\\\n",
    "    1\n",
    "\\end{bmatrix}\n",
    "$$\n",
    "</div>\n",
    "\n",
    "Here is the representation of the planes plotted with the help of this [website](https://technology.cpm.org/general/3dgraph/):\n",
    "\n",
    "<img src=\"images/intersection-2-planes-line.png\" alt=\"Plot showing two planes. The intersection of the two planes is a line\" title=\"The intersection of the two planes is a line\" width=\"500\">\n",
    "<em>The intersection of the two planes is a line</em>\n",
    "\n",
    "We can see that in the best case the two planes are not parallel and there are solutions to the set of equations. It means that it exists some points that rely on both planes. But we can also see that there is inevitably an infinite number of points on the intersection (a line that we can see on the figure). We need a third plane to have a unique solution.\n",
    "\n",
    "### Requirement 2. Overdetermined system: the system must have **only** one solution for each value of $\\bs{b}$: $m\\geq n$\n",
    "\n",
    "\n",
    "<span class='pquote'>\n",
    "     An overdetermined system of equations is a system with more equations than unknowns\n",
    "</span>\n",
    "\n",
    "The column figure is helpful to understand why the linear system has usually no solution if $n$ (the number of unknowns) is smaller than $m$ (the number of equations). Let's add 1 equation to the above system in order to end up with a ($3\\times2$) matrix (3 equations and 2 unknowns):\n",
    "\n",
    "<div>\n",
    "$$\n",
    "\\begin{cases}\n",
    "y = \\frac{1}{2}x+1\\\\\\\\\n",
    "y = -x + 4\\\\\\\\\n",
    "y = 7x + 2\n",
    "\\end{cases}\n",
    "\\Leftrightarrow\n",
    "\\begin{cases}\n",
    "\\frac{1}{2}x-y = -1\\\\\\\\\n",
    "x+y=4\\\\\\\\\n",
    "7x-y=2\n",
    "\\end{cases}\n",
    "$$\n",
    "</div>\n",
    "\n",
    "This corresponds to:\n",
    "\n",
    "<div>\n",
    "$$\n",
    "x\n",
    "\\begin{bmatrix}\n",
    "    \\frac{1}{2} \\\\\\\\\n",
    "    1 \\\\\\\\\n",
    "    7\n",
    "\\end{bmatrix}\n",
    "+\n",
    "y\n",
    "\\begin{bmatrix}\n",
    "    -1 \\\\\\\\\n",
    "    1 \\\\\\\\\n",
    "    -1\n",
    "\\end{bmatrix}\n",
    "=\n",
    "\\begin{bmatrix}\n",
    "    -1 \\\\\\\\\n",
    "    4 \\\\\\\\\n",
    "    2\n",
    "\\end{bmatrix}\n",
    "$$\n",
    "</div>\n",
    "\n",
    "So we are still traveling in our 2-dimensional space (see the plot of the column space above) but the point that we are looking for is defined by 3 dimensions. There are cases where the third coordinate does not rely on our 2-dimensional $x$-$y$ plane. In that case no solution exists.\n",
    "\n",
    "<span class='pquote'>\n",
    "     We are traveling in a 2D space but the solution is defined by 3 dimensions. If the third coordinate does not rely on our 2D $x$-$y$ plane then there is no solution.\n",
    "</span>"
   ]
  },
  {
   "cell_type": "markdown",
   "metadata": {},
   "source": [
    "### Linear dependence\n",
    "\n",
    "The number of columns can thus provide information on the number of solutions. But the number that we have to take into account is the number of **linearly independent** columns. Columns are linearly dependent if one of them is a linear combination of the others. Thinking in the column picture, the direction of two linearly dependent vectors is the same. This doesn't add a dimension that we can use to travel and reach $\\bs{b}$."
   ]
  },
  {
   "cell_type": "markdown",
   "metadata": {},
   "source": [
    "Here is an example of linear system containing linear dependency:\n",
    "\n",
    "$$\n",
    "\\begin{cases}\n",
    "y = 2x+6\\\\\\\\\n",
    "y = 2x\n",
    "\\end{cases}\n",
    "\\Leftrightarrow\n",
    "\\begin{cases}\n",
    "2x-y = -6\\\\\\\\\n",
    "2x-y=0\n",
    "\\end{cases}\n",
    "$$\n",
    "\n",
    "The row figure shows that the system has no solution:"
   ]
  },
  {
   "cell_type": "code",
   "execution_count": 13,
   "metadata": {},
   "outputs": [
    {
     "data": {
      "image/png": "[encoded data removed]",
      "text/plain": [
       "<Figure size 288x288 with 1 Axes>"
      ]
     },
     "metadata": {
      "needs_background": "light"
     },
     "output_type": "display_data"
    }
   ],
   "source": [
    "x = np.arange(-10, 10)\n",
    "y = 2*x + 6\n",
    "\n",
    "y1 = 2*x\n",
    "\n",
    "plt.figure()\n",
    "plt.plot(x, y)\n",
    "plt.plot(x, y1)\n",
    "plt.xlim(-2, 10)\n",
    "plt.ylim(-2, 10)\n",
    "# draw axes\n",
    "plt.axvline(x=0, color='#A9A9A9')\n",
    "plt.axhline(y=0, color='#A9A9A9')\n",
    "plt.show()\n",
    "plt.close()"
   ]
  },
  {
   "cell_type": "markdown",
   "metadata": {},
   "source": [
    "Since the lines are parallel, there is no point at their intersection."
   ]
  },
  {
   "cell_type": "markdown",
   "metadata": {},
   "source": [
    "The column figure illustrates the point as well:\n",
    "\n",
    "$$\n",
    "x\n",
    "\\begin{bmatrix}\n",
    "    2 \\\\\\\\\n",
    "    2\n",
    "\\end{bmatrix}\n",
    "+\n",
    "y\n",
    "\\begin{bmatrix}\n",
    "    -1 \\\\\\\\\n",
    "    -1\n",
    "\\end{bmatrix}\n",
    "=\n",
    "\\begin{bmatrix}\n",
    "    -6 \\\\\\\\\n",
    "    0\n",
    "\\end{bmatrix}\n",
    "$$\n"
   ]
  },
  {
   "cell_type": "code",
   "execution_count": 14,
   "metadata": {},
   "outputs": [
    {
     "data": {
      "image/png": "[encoded data removed]",
      "text/plain": [
       "<Figure size 288x288 with 1 Axes>"
      ]
     },
     "metadata": {
      "needs_background": "light"
     },
     "output_type": "display_data"
    }
   ],
   "source": [
    "u = [0,0,2,2]\n",
    "v = [0,0,-1,-1]\n",
    "\n",
    "plt.quiver([u[0], v[0]],\n",
    "           [u[1], v[1]],\n",
    "           [u[2], v[2]],\n",
    "           [u[3], v[3]],\n",
    "           angles='xy', scale_units='xy', scale=1, color=[blue, orange])\n",
    "plt.xlim(-7, 3)\n",
    "plt.ylim(-2, 3)\n",
    "# draw axes\n",
    "plt.axvline(x=0, color='#A9A9A9')\n",
    "plt.axhline(y=0, color='#A9A9A9')\n",
    "plt.scatter(-6,0,marker='x',s=150)\n",
    "plt.text(-6, 0.5, r'$b$', color='b', size=18)\n",
    "plt.show()\n",
    "plt.close()"
   ]
  },
  {
   "cell_type": "markdown",
   "metadata": {},
   "source": [
    "We would like to go to $b$ but the only path we can take is the blue/orange line. The second equation doesn't provide us with a new direction to take since it is just a linear combination of the first one.\n",
    "\n",
    "Thus, an overdetermined system of independant equations has at most 1 solution."
   ]
  },
  {
   "cell_type": "markdown",
   "metadata": {},
   "source": [
    "### Square matrix\n",
    "\n",
    "How could we satisfy both requirements ($m\\geq n$ and $n\\geq m$): we must have $m=n$!\n",
    "\n",
    "The resulting of all of this is that the system needs a **square matrix** $\\bs{A}$ ($m=n$) with linearly independant columns to have a unique solution for every values of $\\bs{b}$.\n",
    "\n",
    "<span class='pquote'>\n",
    "     The system needs a **square matrix** $\\bs{A}$ ($m=n$) with linearly independant columns to have a unique solution for every values of $\\bs{b}$\n",
    "</span>\n",
    "\n",
    "The inverse of a matrix exists only if the set of equations has one and only one solution for each value of $\\bs{b}$ because:\n",
    "\n",
    "- The matrix $\\bs{A}$ cannot have more than 1 inverse. Imagine that $\\bs{A}$ has 2 inverses $\\bs{B}$ and $\\bs{C}$ such as $\\bs{AB}=\\bs{I}$ and $\\bs{AC}=\\bs{I}$. This would mean that $\\bs{B}=\\bs{C}$.\n",
    "\n",
    "- The solution of the system $\\bs{Ax}=\\bs{b}$ is $\\bs{x}=\\bs{A} ^{-1} \\bs{b}$. So if there are multiple solutions, there are multiple inverses and the first point is not met."
   ]
  },
  {
   "cell_type": "markdown",
   "metadata": {},
   "source": [
    "For more details about the row and the column figure, have a look at the books of Gilbert Strang (there are some ressources [here](http://math.mit.edu/~gs/dela/dela_4-1.pdf)). There are tons of really great examples and graphical explanations! And the *1.2 Geometry of linear equations* in 'Linear algebra and its applications' also from Gilbert Strang."
   ]
  },
  {
   "cell_type": "markdown",
   "metadata": {},
   "source": [
    "<span class='notes'>\n",
    "    Feel free to drop me an email or a comment. The syllabus of this series can be found [in the introduction post](https://hadrienj.github.io/posts/Deep-Learning-Book-Series-Introduction/). All the notebooks can be found on [Github](https://github.com/hadrienj/deepLearningBook-Notes).\n",
    "</span>"
   ]
  },
  {
   "cell_type": "markdown",
   "metadata": {
    "collapsed": true
   },
   "source": [
    "# References\n",
    "\n",
    "## Books and videos of Gilbert Strang\n",
    "\n",
    "- Strang, G. (2006). Linear Algebra and Its Applications, 4th Edition (4th edition). Belmont, CA: Cengage Learning.\n",
    "\n",
    "- Strang, G. (2014). Differential Equations and Linear Algebra (UK ed. edition). Wellesley, Mass: Wellesley-Cambridge.\n",
    "\n",
    "- [The column space of a matrix. Video from Gilbert Strang](https://ocw.mit.edu/resources/res-18-009-learn-differential-equations-up-close-with-gilbert-strang-and-cleve-moler-fall-2015/differential-equations-and-linear-algebra/vector-spaces-and-subspaces/the-column-space-of-a-matrix/)\n",
    "\n",
    "## System of equations\n",
    "\n",
    "- [Wikipedia - System of linear equations](https://en.wikipedia.org/wiki/System_of_linear_equations)\n",
    "\n",
    "## Numpy\n",
    "\n",
    "- [Numpy arange()](https://docs.scipy.org/doc/numpy/reference/generated/numpy.arange.html)"
   ]
  }
 ],
 "metadata": {
  "kernelspec": {
   "display_name": "Python 3",
   "language": "python",
   "name": "python3"
  },
  "language_info": {
   "codemirror_mode": {
    "name": "ipython",
    "version": 3
   },
   "file_extension": ".py",
   "mimetype": "text/x-python",
   "name": "python",
   "nbconvert_exporter": "python",
   "pygments_lexer": "ipython3",
   "version": "3.7.2"
  }
 },
 "nbformat": 4,
 "nbformat_minor": 2
}
